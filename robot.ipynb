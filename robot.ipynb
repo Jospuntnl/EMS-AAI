{
 "cells": [
  {
   "attachments": {},
   "cell_type": "markdown",
   "metadata": {},
   "source": [
    "# controll the robot\n",
    "\n",
    "## import libraries\n"
   ]
  },
  {
   "cell_type": "code",
   "execution_count": 2,
   "metadata": {},
   "outputs": [],
   "source": [
    "import cv2\n",
    "import os\n",
    "import random\n",
    "import numpy as np\n",
    "import tensorflow.lite as tflite"
   ]
  },
  {
   "cell_type": "markdown",
   "metadata": {},
   "source": [
    "\n",
    "We need the .tflite file to run the model on the robot. So we start by importing the model. It is in the same folder as the notebook."
   ]
  },
  {
   "cell_type": "code",
   "execution_count": 3,
   "metadata": {},
   "outputs": [],
   "source": [
    "tflite_model_filename = \"mini_proj_model_v01_01.tflite\""
   ]
  },
  {
   "cell_type": "code",
   "execution_count": 4,
   "metadata": {},
   "outputs": [],
   "source": [
    "interpreter = tflite.Interpreter(tflite_model_filename)\n",
    "interpreter.allocate_tensors()"
   ]
  },
  {
   "cell_type": "code",
   "execution_count": 5,
   "metadata": {},
   "outputs": [],
   "source": [
    "input_details = interpreter.get_input_details()\n",
    "output_details = interpreter.get_output_details()\n",
    "input_shape = input_details[0]['shape']"
   ]
  },
  {
   "cell_type": "code",
   "execution_count": 6,
   "metadata": {},
   "outputs": [
    {
     "name": "stdout",
     "output_type": "stream",
     "text": [
      "[ 1 64 89  1]\n",
      "[1 3]\n"
     ]
    }
   ],
   "source": [
    "print(input_shape)\n",
    "print(output_details[0]['shape'])"
   ]
  },
  {
   "attachments": {},
   "cell_type": "markdown",
   "metadata": {},
   "source": [
    "## car setup"
   ]
  },
  {
   "cell_type": "markdown",
   "id": "91e828db",
   "metadata": {},
   "source": [
    "#### Initialize the car and camera classes"
   ]
  },
  {
   "cell_type": "markdown",
   "id": "swiss-reynolds",
   "metadata": {},
   "source": [
    "Create the racecar class"
   ]
  },
  {
   "cell_type": "code",
   "execution_count": null,
   "id": "obvious-medicaid",
   "metadata": {},
   "outputs": [],
   "source": [
    "from jetracer.nvidia_racecar import NvidiaRacecar\n",
    "car = NvidiaRacecar()"
   ]
  },
  {
   "cell_type": "markdown",
   "id": "korean-recipe",
   "metadata": {},
   "source": [
    "Create the camera class."
   ]
  },
  {
   "cell_type": "code",
   "execution_count": null,
   "id": "interim-preservation",
   "metadata": {},
   "outputs": [],
   "source": [
    "from jetcam.csi_camera import CSICamera\n",
    "camera = CSICamera(width=224, height=224, capture_fps=65)"
   ]
  },
  {
   "attachments": {},
   "cell_type": "markdown",
   "metadata": {},
   "source": [
    "setup the gains and bias for the drive function"
   ]
  },
  {
   "cell_type": "code",
   "execution_count": null,
   "metadata": {},
   "outputs": [],
   "source": [
    "STEERING_GAIN = 0.6\n",
    "STEERING_BIAS = 0.00\n",
    "THROTTLE_GAIN = 0.8"
   ]
  },
  {
   "cell_type": "code",
   "execution_count": null,
   "metadata": {},
   "outputs": [],
   "source": [
    "def preprocess(image):\n",
    "    scale_percent = 40 # percent of original size\n",
    "    width = int(image.shape[1] * scale_percent / 100)\n",
    "    height = int(image.shape[0] * scale_percent / 100)\n",
    "    dim = (width, height)\n",
    "    resized = cv2.resize(image, dim, interpolation = cv2.INTER_AREA)\n",
    "    grayimage = cv2.cvtColor(resized, cv2.COLOR_RGB2GRAY)\n",
    "    return grayimage"
   ]
  },
  {
   "attachments": {},
   "cell_type": "markdown",
   "metadata": {},
   "source": [
    "## driving the car (fully autonomous)"
   ]
  },
  {
   "cell_type": "code",
   "execution_count": null,
   "metadata": {},
   "outputs": [],
   "source": [
    "try:\n",
    "    # main loop\n",
    "    while True:\n",
    "        image = camera.read()\n",
    "        image = preprocess(image)\n",
    "        # add a batch dimension\n",
    "        image = np.expand_dims(image, axis=0)\n",
    "        # set the input tensor\n",
    "        interpreter.set_tensor(input_details[0]['index'], image)\n",
    "        # run the inference\n",
    "        interpreter.invoke()\n",
    "        # get the output tensor\n",
    "        output_data = interpreter.get_tensor(output_details[0]['index'])\n",
    "        # set the car controls\n",
    "        if(output_data)\n",
    "\n",
    "except:\n",
    "    car.throttle = 0.0\n",
    "    raise"
   ]
  },
  {
   "attachments": {},
   "cell_type": "markdown",
   "metadata": {},
   "source": [
    "## driving the car (semi-autonomous - manual throttle)"
   ]
  },
  {
   "cell_type": "code",
   "execution_count": null,
   "metadata": {},
   "outputs": [],
   "source": [
    "try:\n",
    "    # main loop\n",
    "    while True:\n",
    "        image = camera.read()\n",
    "        image = preprocess(image)\n",
    "        # add a batch dimension\n",
    "        image = np.expand_dims(image, axis=0)\n",
    "        # set the input tensor\n",
    "        interpreter.set_tensor(input_details[0]['index'], image)\n",
    "        # run the inference\n",
    "        interpreter.invoke()\n",
    "        # get the output tensor\n",
    "        output_data = interpreter.get_tensor(output_details[0]['index'])\n",
    "        print(output_data)\n",
    "\n",
    "except:\n",
    "    car.throttle = 0.0\n",
    "    raise"
   ]
  },
  {
   "attachments": {},
   "cell_type": "markdown",
   "metadata": {},
   "source": [
    "## E stop"
   ]
  },
  {
   "cell_type": "code",
   "execution_count": null,
   "metadata": {},
   "outputs": [],
   "source": [
    "car.throttle = 0.0"
   ]
  }
 ],
 "metadata": {
  "kernelspec": {
   "display_name": "aai_proj",
   "language": "python",
   "name": "python3"
  },
  "language_info": {
   "codemirror_mode": {
    "name": "ipython",
    "version": 3
   },
   "file_extension": ".py",
   "mimetype": "text/x-python",
   "name": "python",
   "nbconvert_exporter": "python",
   "pygments_lexer": "ipython3",
   "version": "3.7.15"
  },
  "orig_nbformat": 4,
  "vscode": {
   "interpreter": {
    "hash": "f4f7ca94ca24eef438867125c0906f4b1d03d70d8860589503050797217fc288"
   }
  }
 },
 "nbformat": 4,
 "nbformat_minor": 2
}
